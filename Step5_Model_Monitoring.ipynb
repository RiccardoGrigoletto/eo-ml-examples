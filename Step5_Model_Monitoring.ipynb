{
 "cells": [
  {
   "cell_type": "markdown",
   "metadata": {},
   "source": [
    "# Iceberg Classification Step 5: Model Monitoring\n",
    "\n",
    "Note that this notebook monitors the inference request while inference requests are made to the model served.\n"
   ]
  },
  {
   "cell_type": "code",
   "execution_count": 1,
   "metadata": {},
   "outputs": [
    {
     "name": "stdout",
     "output_type": "stream",
     "text": [
      "Starting Spark application\n"
     ]
    },
    {
     "data": {
      "text/html": [
       "<table>\n",
       "<tr><th>ID</th><th>YARN Application ID</th><th>Kind</th><th>State</th><th>Spark UI</th><th>Driver log</th></tr><tr><td>75</td><td>application_1623744201905_0008</td><td>pyspark</td><td>idle</td><td><a target=\"_blank\" href=\"/hopsworks-api/yarnui/https://maggydemo22-master.internal.cloudapp.net:8089/proxy/application_1623744201905_0008/\">Link</a></td><td><a target=\"_blank\" href=\"/hopsworks-api/yarnui/https://maggydemo22-worker-1.internal.cloudapp.net:8044/node/containerlogs/container_e11_1623744201905_0008_01_000001/demo_ml_meb10180__meb10180\">Link</a></td></tr></table>"
      ],
      "text/plain": [
       "<IPython.core.display.HTML object>"
      ]
     },
     "metadata": {},
     "output_type": "display_data"
    },
    {
     "name": "stdout",
     "output_type": "stream",
     "text": [
      "SparkSession available as 'spark'.\n",
      "-----------------------------------------------\n",
      "This notebook is tested with:\n",
      "  - Hopsworks 2.2.0.1.\n",
      "  - Spark 2.4.3.2."
     ]
    }
   ],
   "source": [
    "import hops\n",
    "\n",
    "# SparkSession available as 'spark'\n",
    "print(\n",
    "    f\"-----------------------------------------------\\n\" \\\n",
    "    f\"This notebook is tested with:\\n\" \\\n",
    "    f\"  - Hopsworks {hops.__version__}.\\n\" \\\n",
    "    f\"  - Spark {spark.version}.\\n\"\n",
    ")"
   ]
  },
  {
   "cell_type": "code",
   "execution_count": 2,
   "metadata": {},
   "outputs": [],
   "source": [
    "from hops import kafka\n",
    "from hops import tls\n",
    "from confluent_kafka import Producer, Consumer\n",
    "# TOPIC_NAME can be found in the Kafka tab under hopsworks UI.\n",
    "TOPIC_NAME = 'ShipIcebergClassifier-inf2529'\n",
    "\n",
    "config = {\n",
    "    \"bootstrap.servers\": kafka.get_broker_endpoints(),\n",
    "    \"security.protocol\": kafka.get_security_protocol(),\n",
    "    \"ssl.ca.location\": tls.get_ca_chain_location(),\n",
    "    \"ssl.certificate.location\": tls.get_client_certificate_location(),\n",
    "    \"ssl.key.location\": tls.get_client_key_location(),\n",
    "    \"group.id\": \"something\"\n",
    "}\n",
    "\n",
    "consumer = Consumer(config)\n",
    "\n",
    "def print_assignment(consumer, partitions):\n",
    "    \"\"\" \n",
    "    Callback called when a Kafka consumer is assigned to a partition\n",
    "    \"\"\"\n",
    "    print('Assignment:', partitions)\n",
    "topics = [TOPIC_NAME]\n",
    "consumer.subscribe(topics, on_assign=print_assignment)"
   ]
  },
  {
   "cell_type": "code",
   "execution_count": 3,
   "metadata": {
    "scrolled": true
   },
   "outputs": [
    {
     "name": "stdout",
     "output_type": "stream",
     "text": [
      "Topic empty, timeout when trying to consume message, try to produce messages to the topic and then re-consume"
     ]
    }
   ],
   "source": [
    "for i in range(0, 1):\n",
    "    msg = consumer.poll(timeout=30.0)\n",
    "    if msg is not None:\n",
    "        print('Consumed Message: {} from topic: {}, partition: {}, offset: {}, timestamp: {}'.format(msg.value(), msg.topic(), msg.partition(), msg.offset(), msg.timestamp()))\n",
    "    else:\n",
    "        print(\"Topic empty, timeout when trying to consume message, try to produce messages to the topic and then re-consume\")"
   ]
  },
  {
   "cell_type": "markdown",
   "metadata": {},
   "source": [
    "# End of Step 5."
   ]
  }
 ],
 "metadata": {
  "kernelspec": {
   "display_name": "PySpark",
   "language": "python",
   "name": "pysparkkernel"
  },
  "language_info": {
   "codemirror_mode": {
    "name": "python",
    "version": 3
   },
   "mimetype": "text/x-python",
   "name": "pyspark",
   "pygments_lexer": "python3"
  }
 },
 "nbformat": 4,
 "nbformat_minor": 4
}