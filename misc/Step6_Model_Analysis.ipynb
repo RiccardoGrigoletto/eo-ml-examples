{
 "cells": [
  {
   "cell_type": "markdown",
   "metadata": {},
   "source": [
    "# Iceberg Classification Step 6: Model Analysis\n",
    "\n",
    "Note that this notebook needs classic jupyter notebook for widget visulization.\n"
   ]
  },
  {
   "cell_type": "markdown",
   "metadata": {
    "colab_type": "text",
    "id": "UiNxsd4_q9wq"
   },
   "source": [
    "### What-If Tool in a jupyter notebook\n",
    "\n",
    "WARNING: This notebook only runs on \"classic\" Jupyter, not on Jupyterlab.\n",
    "\n",
    "This notebook shows use of the [What-If Tool](https://pair-code.github.io/what-if-tool) inside of a jupyter notebook.\n",
    "\n",
    "This notebook trains a linear classifier on the [UCI census problem](https://archive.ics.uci.edu/ml/datasets/census+income) (predicting whether a person earns more than $50K from their census information).\n",
    "\n",
    "It then visualizes the results of the trained classifier on test data using the What-If Tool.\n"
   ]
  },
  {
   "cell_type": "code",
   "execution_count": 1,
   "metadata": {},
   "outputs": [],
   "source": [
    "import os\n",
    "import statistics\n",
    "import functools\n",
    "from hops import hdfs\n",
    "import pandas as pd\n",
    "import numpy as np\n",
    "import tensorflow as tf"
   ]
  },
  {
   "cell_type": "markdown",
   "metadata": {},
   "source": [
    "## Load the original dataset as pandas dataframe"
   ]
  },
  {
   "cell_type": "code",
   "execution_count": 2,
   "metadata": {},
   "outputs": [
    {
     "name": "stdout",
     "output_type": "stream",
     "text": [
      "train_ds_path: hdfs://rpc.namenode.service.consul:8020/Projects/demo_ml_meb10180/eodata/train.json\n"
     ]
    },
    {
     "name": "stderr",
     "output_type": "stream",
     "text": [
      "/srv/hops/anaconda/envs/theenv/lib/python3.7/site-packages/fsspec/implementations/hdfs.py:55: FutureWarning: pyarrow.hdfs.HadoopFileSystem is deprecated as of 2.0.0, please use pyarrow.fs.HadoopFileSystem instead.\n",
      "  extra_conf=extra_conf,\n"
     ]
    }
   ],
   "source": [
    "DATA_FOLDER = 'eodata'\n",
    "# get data path\n",
    "train_ds_path = os.path.join(hdfs.project_path(), DATA_FOLDER,'train.json')\n",
    "print(\"train_ds_path:\", train_ds_path)\n",
    "\n",
    "# read the raw data to pandas dataframe\n",
    "raw_train_df = pd.read_json(train_ds_path)\n",
    "\n",
    "raw_train_df['inc_angle'] = raw_train_df['inc_angle'].replace('na', '-1').astype('float64')\n",
    "raw_train_df['is_iceberg'] = raw_train_df['is_iceberg'].astype('int64')"
   ]
  },
  {
   "cell_type": "code",
   "execution_count": 3,
   "metadata": {},
   "outputs": [
    {
     "name": "stdout",
     "output_type": "stream",
     "text": [
      "<class 'pandas.core.frame.DataFrame'>\n",
      "RangeIndex: 1604 entries, 0 to 1603\n",
      "Data columns (total 5 columns):\n",
      " #   Column      Non-Null Count  Dtype  \n",
      "---  ------      --------------  -----  \n",
      " 0   id          1604 non-null   object \n",
      " 1   band_1      1604 non-null   object \n",
      " 2   band_2      1604 non-null   object \n",
      " 3   inc_angle   1604 non-null   float64\n",
      " 4   is_iceberg  1604 non-null   int64  \n",
      "dtypes: float64(1), int64(1), object(3)\n",
      "memory usage: 62.8+ KB\n"
     ]
    }
   ],
   "source": [
    "raw_train_df.info()"
   ]
  },
  {
   "cell_type": "markdown",
   "metadata": {},
   "source": [
    "## Create some new features."
   ]
  },
  {
   "cell_type": "code",
   "execution_count": 4,
   "metadata": {},
   "outputs": [],
   "source": [
    "# a function for taking list average\n",
    "def list_avg(row):\n",
    "    \"\"\"Take element-wise average of two list.\"\"\"\n",
    "    return [sum(x)/2 for x in zip(row['band_1'], row['band_2'])]\n",
    "\n",
    "def elementwise_absolute_difference(row):\n",
    "    \"\"\"Take element-wise absolute difference of two list.\"\"\"\n",
    "    return [abs(x[0] - x[1]) for x in zip(row['band_1'], row['band_2'])]\n",
    "\n",
    "# element-wise average between band_1 and band_2\n",
    "raw_train_df['band_avg'] = raw_train_df.apply(lambda row: list_avg(row), axis=1)\n",
    "# max of element-wise absoulute difference between band_1 and band_2.\n",
    "raw_train_df['elementwise_diff_max'] = raw_train_df.apply(lambda row: max(elementwise_absolute_difference(row)), axis=1)\n",
    "# min of element-wise absoulute difference between band_1 and band_2.\n",
    "raw_train_df['elementwise_diff_min'] = raw_train_df.apply(lambda row: min(elementwise_absolute_difference(row)), axis=1)\n",
    "# average of element-wise absoulute difference between band_1 and band_2.\n",
    "raw_train_df['elementwise_diff_mean'] = raw_train_df.apply(lambda row: statistics.mean(elementwise_absolute_difference(row)), axis=1)"
   ]
  },
  {
   "cell_type": "code",
   "execution_count": 5,
   "metadata": {},
   "outputs": [
    {
     "data": {
      "text/html": [
       "<div>\n",
       "<style scoped>\n",
       "    .dataframe tbody tr th:only-of-type {\n",
       "        vertical-align: middle;\n",
       "    }\n",
       "\n",
       "    .dataframe tbody tr th {\n",
       "        vertical-align: top;\n",
       "    }\n",
       "\n",
       "    .dataframe thead th {\n",
       "        text-align: right;\n",
       "    }\n",
       "</style>\n",
       "<table border=\"1\" class=\"dataframe\">\n",
       "  <thead>\n",
       "    <tr style=\"text-align: right;\">\n",
       "      <th></th>\n",
       "      <th>id</th>\n",
       "      <th>band_1</th>\n",
       "      <th>band_2</th>\n",
       "      <th>inc_angle</th>\n",
       "      <th>is_iceberg</th>\n",
       "      <th>band_avg</th>\n",
       "      <th>elementwise_diff_max</th>\n",
       "      <th>elementwise_diff_min</th>\n",
       "      <th>elementwise_diff_mean</th>\n",
       "    </tr>\n",
       "  </thead>\n",
       "  <tbody>\n",
       "    <tr>\n",
       "      <th>27</th>\n",
       "      <td>70830858</td>\n",
       "      <td>[-31.042643, -31.60326, -32.202568, -30.51619,...</td>\n",
       "      <td>[-34.297188, -32.846218, -30.019676, -29.10457...</td>\n",
       "      <td>43.7895</td>\n",
       "      <td>0</td>\n",
       "      <td>[-32.6699155, -32.224739, -31.111122, -29.8103...</td>\n",
       "      <td>15.563026</td>\n",
       "      <td>0.0</td>\n",
       "      <td>2.550000</td>\n",
       "    </tr>\n",
       "    <tr>\n",
       "      <th>885</th>\n",
       "      <td>894e9be7</td>\n",
       "      <td>[-21.469976, -23.730808, -27.490658, -24.72464...</td>\n",
       "      <td>[-31.572975, -29.51977, -31.012486, -36.010075...</td>\n",
       "      <td>43.7797</td>\n",
       "      <td>0</td>\n",
       "      <td>[-26.5214755, -26.625289000000002, -29.251572,...</td>\n",
       "      <td>17.460731</td>\n",
       "      <td>0.0</td>\n",
       "      <td>5.138052</td>\n",
       "    </tr>\n",
       "    <tr>\n",
       "      <th>68</th>\n",
       "      <td>79a6f286</td>\n",
       "      <td>[-17.480255, -18.581278, -19.064022, -18.34978...</td>\n",
       "      <td>[-23.296471, -21.158657, -24.839933, -29.94545...</td>\n",
       "      <td>34.4721</td>\n",
       "      <td>1</td>\n",
       "      <td>[-20.388363, -19.8699675, -21.951977499999998,...</td>\n",
       "      <td>20.391910</td>\n",
       "      <td>0.0</td>\n",
       "      <td>7.854913</td>\n",
       "    </tr>\n",
       "    <tr>\n",
       "      <th>1264</th>\n",
       "      <td>85cdf483</td>\n",
       "      <td>[-24.246319, -25.024721, -23.306473, -25.02480...</td>\n",
       "      <td>[-28.683292, -28.279266, -26.828297, -29.10720...</td>\n",
       "      <td>43.9459</td>\n",
       "      <td>1</td>\n",
       "      <td>[-26.4648055, -26.6519935, -25.067385, -27.066...</td>\n",
       "      <td>22.467700</td>\n",
       "      <td>0.0</td>\n",
       "      <td>7.053629</td>\n",
       "    </tr>\n",
       "    <tr>\n",
       "      <th>306</th>\n",
       "      <td>46c85664</td>\n",
       "      <td>[-23.995512, -22.656616, -20.636129, -20.31443...</td>\n",
       "      <td>[-24.2402, -25.294371, -26.822178, -27.517464,...</td>\n",
       "      <td>43.9510</td>\n",
       "      <td>1</td>\n",
       "      <td>[-24.117856000000003, -23.9754935, -23.7291535...</td>\n",
       "      <td>19.356308</td>\n",
       "      <td>0.0</td>\n",
       "      <td>6.326806</td>\n",
       "    </tr>\n",
       "  </tbody>\n",
       "</table>\n",
       "</div>"
      ],
      "text/plain": [
       "            id                                             band_1  \\\n",
       "27    70830858  [-31.042643, -31.60326, -32.202568, -30.51619,...   \n",
       "885   894e9be7  [-21.469976, -23.730808, -27.490658, -24.72464...   \n",
       "68    79a6f286  [-17.480255, -18.581278, -19.064022, -18.34978...   \n",
       "1264  85cdf483  [-24.246319, -25.024721, -23.306473, -25.02480...   \n",
       "306   46c85664  [-23.995512, -22.656616, -20.636129, -20.31443...   \n",
       "\n",
       "                                                 band_2  inc_angle  \\\n",
       "27    [-34.297188, -32.846218, -30.019676, -29.10457...    43.7895   \n",
       "885   [-31.572975, -29.51977, -31.012486, -36.010075...    43.7797   \n",
       "68    [-23.296471, -21.158657, -24.839933, -29.94545...    34.4721   \n",
       "1264  [-28.683292, -28.279266, -26.828297, -29.10720...    43.9459   \n",
       "306   [-24.2402, -25.294371, -26.822178, -27.517464,...    43.9510   \n",
       "\n",
       "      is_iceberg                                           band_avg  \\\n",
       "27             0  [-32.6699155, -32.224739, -31.111122, -29.8103...   \n",
       "885            0  [-26.5214755, -26.625289000000002, -29.251572,...   \n",
       "68             1  [-20.388363, -19.8699675, -21.951977499999998,...   \n",
       "1264           1  [-26.4648055, -26.6519935, -25.067385, -27.066...   \n",
       "306            1  [-24.117856000000003, -23.9754935, -23.7291535...   \n",
       "\n",
       "      elementwise_diff_max  elementwise_diff_min  elementwise_diff_mean  \n",
       "27               15.563026                   0.0               2.550000  \n",
       "885              17.460731                   0.0               5.138052  \n",
       "68               20.391910                   0.0               7.854913  \n",
       "1264             22.467700                   0.0               7.053629  \n",
       "306              19.356308                   0.0               6.326806  "
      ]
     },
     "execution_count": 5,
     "metadata": {},
     "output_type": "execute_result"
    }
   ],
   "source": [
    "raw_train_df.sample(5)"
   ]
  },
  {
   "cell_type": "code",
   "execution_count": 6,
   "metadata": {},
   "outputs": [
    {
     "name": "stdout",
     "output_type": "stream",
     "text": [
      "<class 'pandas.core.frame.DataFrame'>\n",
      "RangeIndex: 1604 entries, 0 to 1603\n",
      "Data columns (total 9 columns):\n",
      " #   Column                 Non-Null Count  Dtype  \n",
      "---  ------                 --------------  -----  \n",
      " 0   id                     1604 non-null   object \n",
      " 1   band_1                 1604 non-null   object \n",
      " 2   band_2                 1604 non-null   object \n",
      " 3   inc_angle              1604 non-null   float64\n",
      " 4   is_iceberg             1604 non-null   int64  \n",
      " 5   band_avg               1604 non-null   object \n",
      " 6   elementwise_diff_max   1604 non-null   float64\n",
      " 7   elementwise_diff_min   1604 non-null   float64\n",
      " 8   elementwise_diff_mean  1604 non-null   float64\n",
      "dtypes: float64(4), int64(1), object(4)\n",
      "memory usage: 112.9+ KB\n"
     ]
    }
   ],
   "source": [
    "raw_train_df.info()"
   ]
  },
  {
   "cell_type": "markdown",
   "metadata": {},
   "source": [
    "## Split into train and test set."
   ]
  },
  {
   "cell_type": "code",
   "execution_count": 7,
   "metadata": {},
   "outputs": [
    {
     "name": "stdout",
     "output_type": "stream",
     "text": [
      "Training dataframe has 1254 rows.\n",
      "Test dataframe has 350 rows.\n"
     ]
    }
   ],
   "source": [
    "mask = np.random.rand(len(raw_train_df)) < 0.8\n",
    "train_df = raw_train_df[mask]\n",
    "test_df = raw_train_df[~mask]\n",
    "print('Training dataframe has {} rows.\\nTest dataframe has {} rows.'.format(len(train_df), len(test_df)))"
   ]
  },
  {
   "cell_type": "markdown",
   "metadata": {},
   "source": [
    "## Model Analysis Preparation"
   ]
  },
  {
   "cell_type": "code",
   "execution_count": 8,
   "metadata": {},
   "outputs": [],
   "source": [
    "def df_to_examples(df, columns=None):\n",
    "    \"\"\"Converts a dataframe into a list of tf.Example protos.\"\"\"\n",
    "    examples = []\n",
    "    if columns == None:\n",
    "        columns = df.columns.values.tolist()\n",
    "    for index, row in df.iterrows():\n",
    "        example = tf.train.Example()\n",
    "        for col in columns:\n",
    "            if df[col].dtype is np.dtype(np.int64):\n",
    "                example.features.feature[col].int64_list.value.append(int(row[col]))\n",
    "            elif df[col].dtype is np.dtype(np.float64):\n",
    "                example.features.feature[col].float_list.value.append(row[col])\n",
    "            elif row[col] == row[col]:\n",
    "                example.features.feature[col].bytes_list.value.append(row[col].encode('utf-8'))\n",
    "        examples.append(example)\n",
    "    return examples\n",
    "\n",
    "def create_feature_spec(df, columns=None):\n",
    "    \"\"\"Creates a tf feature spec from the dataframe and columns specified.\"\"\"\n",
    "    feature_spec = {}\n",
    "    if columns == None:\n",
    "        columns = df.columns.values.tolist()\n",
    "    for f in columns:\n",
    "        if df[f].dtype is np.dtype(np.int64):\n",
    "            feature_spec[f] = tf.io.FixedLenFeature(shape=(), dtype=tf.int64)\n",
    "        elif df[f].dtype is np.dtype(np.float64):\n",
    "            feature_spec[f] = tf.io.FixedLenFeature(shape=(), dtype=tf.float32)\n",
    "        else:\n",
    "            feature_spec[f] = tf.io.FixedLenFeature(shape=(), dtype=tf.string)\n",
    "    return feature_spec\n",
    "\n",
    "\n",
    "def tfexamples_input_fn(examples, feature_spec, label, mode=tf.estimator.ModeKeys.EVAL,\n",
    "                       num_epochs=None, \n",
    "                       batch_size=64):\n",
    "    \"\"\"An input function for providing input to a model from tf.Examples\"\"\"\n",
    "    def ex_generator():\n",
    "        for i in range(len(examples)):\n",
    "            yield examples[i].SerializeToString()\n",
    "    dataset = tf.data.Dataset.from_generator(\n",
    "      ex_generator, tf.dtypes.string, tf.TensorShape([]))\n",
    "    if mode == tf.estimator.ModeKeys.TRAIN:\n",
    "        dataset = dataset.shuffle(buffer_size=2 * batch_size + 1)\n",
    "    dataset = dataset.batch(batch_size)\n",
    "    dataset = dataset.map(lambda tf_example: parse_tf_example(tf_example, label, feature_spec))\n",
    "    dataset = dataset.repeat(num_epochs)\n",
    "    return dataset\n",
    "\n",
    "\n",
    "def create_feature_columns(columns, feature_spec):\n",
    "    \"\"\"Creates simple numeric and categorical feature columns \n",
    "    from a feature spec and a list of columns from that spec to use.\n",
    "    \n",
    "    NOTE: Models might perform better with some feature engineering such as bucketed \n",
    "    numeric columns and hash-bucket/embedding columns for categorical features.\n",
    "    \"\"\"\n",
    "    ret = []\n",
    "    for col in columns:\n",
    "        if feature_spec[col].dtype is tf.int64 or feature_spec[col].dtype is tf.float32:\n",
    "            ret.append(tf.feature_column.numeric_column(col))\n",
    "        else:\n",
    "            ret.append(tf.feature_column.indicator_column(\n",
    "                tf.feature_column.categorical_column_with_vocabulary_list(col, list(df[col].unique()))))\n",
    "    return ret\n",
    "\n",
    "\n",
    "def parse_tf_example(example_proto, label, feature_spec):\n",
    "    \"\"\"Parses Tf.Example protos into features for the input function.\"\"\"\n",
    "    parsed_features = tf.io.parse_example(serialized=example_proto, features=feature_spec)\n",
    "    target = parsed_features.pop(label)\n",
    "    return parsed_features, target"
   ]
  },
  {
   "cell_type": "code",
   "execution_count": 9,
   "metadata": {},
   "outputs": [
    {
     "name": "stdout",
     "output_type": "stream",
     "text": [
      "features_and_labels are ['inc_angle', 'elementwise_diff_max', 'elementwise_diff_min', 'elementwise_diff_mean', 'is_iceberg']\n"
     ]
    }
   ],
   "source": [
    "# Set the column in the dataset you wish for the model to predict\n",
    "label_column = 'is_iceberg'\n",
    "\n",
    "# Make the label column numeric (0 and 1), for use in our model.\n",
    "# In this case, examples with a target value of 'is_iceberg' are considered to be in\n",
    "# the '1' (iceberg) class and all other examples are considered to be in the\n",
    "# '0' (ship) class.\n",
    "\n",
    "# make_label_column_numeric(df, label_column, lambda val: val == '>50K')\n",
    "\n",
    "# Set list of all columns from the dataset we will use for model input.\n",
    "input_features = ['inc_angle', 'elementwise_diff_max', 'elementwise_diff_min', 'elementwise_diff_mean']\n",
    "\n",
    "# Create a list containing all input features and the label column\n",
    "features_and_labels = input_features + [label_column]\n",
    "\n",
    "print('features_and_labels are {}'.format(features_and_labels))"
   ]
  },
  {
   "cell_type": "code",
   "execution_count": 10,
   "metadata": {},
   "outputs": [],
   "source": [
    "examples = df_to_examples(train_df, features_and_labels)\n",
    "\n",
    "# number of steps to train\n",
    "num_steps = 500  #@param {type: \"number\"}\n",
    "\n",
    "# Create a feature spec for the classifier\n",
    "feature_spec = create_feature_spec(train_df, features_and_labels)\n",
    "\n",
    "# Define and train the classifier\n",
    "train_inpf = functools.partial(tfexamples_input_fn, examples, feature_spec, label_column)"
   ]
  },
  {
   "cell_type": "code",
   "execution_count": 11,
   "metadata": {
    "scrolled": true
   },
   "outputs": [
    {
     "name": "stdout",
     "output_type": "stream",
     "text": [
      "INFO:tensorflow:Using default config.\n",
      "WARNING:tensorflow:Using temporary folder as model directory: /tmp/tmpjvrurwu4\n",
      "INFO:tensorflow:Using config: {'_model_dir': '/tmp/tmpjvrurwu4', '_tf_random_seed': None, '_save_summary_steps': 100, '_save_checkpoints_steps': None, '_save_checkpoints_secs': 600, '_session_config': allow_soft_placement: true\n",
      "graph_options {\n",
      "  rewrite_options {\n",
      "    meta_optimizer_iterations: ONE\n",
      "  }\n",
      "}\n",
      ", '_keep_checkpoint_max': 5, '_keep_checkpoint_every_n_hours': 10000, '_log_step_count_steps': 100, '_train_distribute': None, '_device_fn': None, '_protocol': None, '_eval_distribute': None, '_experimental_distribute': None, '_experimental_max_worker_delay_secs': None, '_session_creation_timeout_secs': 7200, '_checkpoint_save_graph_def': True, '_service': None, '_cluster_spec': ClusterSpec({}), '_task_type': 'worker', '_task_id': 0, '_global_id_in_cluster': 0, '_master': '', '_evaluation_master': '', '_is_chief': True, '_num_ps_replicas': 0, '_num_worker_replicas': 1}\n",
      "WARNING:tensorflow:From /srv/hops/anaconda/envs/theenv/lib/python3.7/site-packages/tensorflow/python/training/training_util.py:236: Variable.initialized_value (from tensorflow.python.ops.variables) is deprecated and will be removed in a future version.\n",
      "Instructions for updating:\n",
      "Use Variable.read_value. Variables in 2.X are initialized automatically both in eager and graph (inside tf.defun) contexts.\n",
      "WARNING:tensorflow:From <ipython-input-8-58070fd0cdcc>:41: calling DatasetV2.from_generator (from tensorflow.python.data.ops.dataset_ops) with output_types is deprecated and will be removed in a future version.\n",
      "Instructions for updating:\n",
      "Use output_signature instead\n",
      "WARNING:tensorflow:From <ipython-input-8-58070fd0cdcc>:41: calling DatasetV2.from_generator (from tensorflow.python.data.ops.dataset_ops) with output_shapes is deprecated and will be removed in a future version.\n",
      "Instructions for updating:\n",
      "Use output_signature instead\n",
      "INFO:tensorflow:Calling model_fn.\n"
     ]
    },
    {
     "name": "stderr",
     "output_type": "stream",
     "text": [
      "/srv/hops/anaconda/envs/theenv/lib/python3.7/site-packages/tensorflow/python/keras/engine/base_layer_v1.py:1727: UserWarning: `layer.add_variable` is deprecated and will be removed in a future version. Please use `layer.add_weight` method instead.\n",
      "  warnings.warn('`layer.add_variable` is deprecated and '\n"
     ]
    },
    {
     "name": "stdout",
     "output_type": "stream",
     "text": [
      "WARNING:tensorflow:From /srv/hops/anaconda/envs/theenv/lib/python3.7/site-packages/tensorflow/python/keras/optimizer_v2/ftrl.py:134: calling Constant.__init__ (from tensorflow.python.ops.init_ops) with dtype is deprecated and will be removed in a future version.\n",
      "Instructions for updating:\n",
      "Call initializer instance with the dtype argument instead of passing it to the constructor\n",
      "INFO:tensorflow:Done calling model_fn.\n",
      "INFO:tensorflow:Create CheckpointSaverHook.\n",
      "INFO:tensorflow:Graph was finalized.\n",
      "INFO:tensorflow:Running local_init_op.\n",
      "INFO:tensorflow:Done running local_init_op.\n",
      "INFO:tensorflow:Calling checkpoint listeners before saving checkpoint 0...\n",
      "INFO:tensorflow:Saving checkpoints for 0 into /tmp/tmpjvrurwu4/model.ckpt.\n",
      "INFO:tensorflow:Calling checkpoint listeners after saving checkpoint 0...\n",
      "INFO:tensorflow:loss = 0.6931472, step = 0\n",
      "INFO:tensorflow:global_step/sec: 74.2288\n",
      "INFO:tensorflow:loss = 0.7973999, step = 100 (1.349 sec)\n",
      "INFO:tensorflow:global_step/sec: 80.7913\n",
      "INFO:tensorflow:loss = 0.6751815, step = 200 (1.238 sec)\n",
      "INFO:tensorflow:global_step/sec: 76.2274\n",
      "INFO:tensorflow:loss = 0.7017918, step = 300 (1.312 sec)\n",
      "INFO:tensorflow:global_step/sec: 78.8104\n",
      "INFO:tensorflow:loss = 0.7170754, step = 400 (1.269 sec)\n",
      "INFO:tensorflow:Calling checkpoint listeners before saving checkpoint 500...\n",
      "INFO:tensorflow:Saving checkpoints for 500 into /tmp/tmpjvrurwu4/model.ckpt.\n",
      "INFO:tensorflow:Calling checkpoint listeners after saving checkpoint 500...\n",
      "INFO:tensorflow:Loss for final step: 0.52350956.\n"
     ]
    },
    {
     "data": {
      "text/plain": [
       "<tensorflow_estimator.python.estimator.canned.linear.LinearClassifierV2 at 0x7f809c5cc810>"
      ]
     },
     "execution_count": 11,
     "metadata": {},
     "output_type": "execute_result"
    }
   ],
   "source": [
    "# Define a linear classifier\n",
    "classifier = tf.estimator.LinearClassifier(feature_columns=create_feature_columns(input_features, feature_spec))\n",
    "\n",
    "# Train the classifier\n",
    "classifier.train(train_inpf, steps=num_steps)"
   ]
  },
  {
   "cell_type": "code",
   "execution_count": 12,
   "metadata": {},
   "outputs": [
    {
     "data": {
      "text/html": [
       "<style>.container { width:100% !important; }</style>"
      ],
      "text/plain": [
       "<IPython.core.display.HTML object>"
      ]
     },
     "metadata": {},
     "output_type": "display_data"
    },
    {
     "data": {
      "application/vnd.jupyter.widget-view+json": {
       "model_id": "6931efce674b4a62ad6ccab281031754",
       "version_major": 2,
       "version_minor": 0
      },
      "text/plain": [
       "WitWidget(config={'model_type': 'classification', 'label_vocab': ['not iceberg', 'is iceberg'], 'are_sequence_…"
      ]
     },
     "metadata": {},
     "output_type": "display_data"
    }
   ],
   "source": [
    "#@title Invoke What-If Tool for test data and the trained model {display-mode: \"form\"}\n",
    "\n",
    "num_datapoints = 2000  #@param {type: \"number\"}\n",
    "tool_height_in_px = 1000  #@param {type: \"number\"}\n",
    "\n",
    "from witwidget.notebook.visualization import WitConfigBuilder\n",
    "from witwidget.notebook.visualization import WitWidget\n",
    "\n",
    "test_examples = df_to_examples(test_df, features_and_labels)\n",
    "\n",
    "# Setup the tool with the test examples and the trained classifier\n",
    "config_builder = WitConfigBuilder(test_examples).set_estimator_and_feature_spec(classifier, feature_spec).set_label_vocab(['not iceberg', 'is iceberg'])\n",
    "WitWidget(config_builder, height=tool_height_in_px)"
   ]
  },
  {
   "cell_type": "markdown",
   "metadata": {},
   "source": [
    "# End of Step 6."
   ]
  }
 ],
 "metadata": {
  "colab": {
   "collapsed_sections": [],
   "name": "What-If Tool Notebook Usage",
   "provenance": [],
   "version": "0.3.2"
  },
  "kernelspec": {
   "display_name": "Python",
   "language": "python",
   "name": "python3"
  },
  "language_info": {
   "codemirror_mode": {
    "name": "ipython",
    "version": 3
   },
   "file_extension": ".py",
   "mimetype": "text/x-python",
   "name": "python",
   "nbconvert_exporter": "python",
   "pygments_lexer": "ipython3",
   "version": "3.7.9"
  }
 },
 "nbformat": 4,
 "nbformat_minor": 4
}