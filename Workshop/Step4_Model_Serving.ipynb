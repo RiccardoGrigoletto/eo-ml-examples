{
 "cells": [
  {
   "cell_type": "markdown",
   "metadata": {},
   "source": [
    "# Iceberg Classification Step 4: Model Serving\n",
    "\n",
    "Notebook for serving The trained model for icerberg classification.\n",
    "\n",
    "This notebook will send inference requests to a model serving instance that was exported by notebook number three ([Notebook number three](./Step3_Distributed_Training.ipynb)). This assumes that you have created a model serving instance of the model by using the hopsworks UI. You can find documentation on how to do this [here](https://hops.readthedocs.io/en/0.9/hopsml/model_serving.html)"
   ]
  },
  {
   "cell_type": "markdown",
   "metadata": {},
   "source": [
    "## Imports"
   ]
  },
  {
   "cell_type": "code",
   "execution_count": 1,
   "metadata": {},
   "outputs": [
    {
     "name": "stdout",
     "output_type": "stream",
     "text": [
      "Starting Spark application\n"
     ]
    },
    {
     "data": {
      "text/html": [
       "<table>\n",
       "<tr><th>ID</th><th>YARN Application ID</th><th>Kind</th><th>State</th><th>Spark UI</th><th>Driver log</th></tr><tr><td>74</td><td>application_1623744201905_0007</td><td>pyspark</td><td>idle</td><td><a target=\"_blank\" href=\"/hopsworks-api/yarnui/https://maggydemo22-master.internal.cloudapp.net:8089/proxy/application_1623744201905_0007/\">Link</a></td><td><a target=\"_blank\" href=\"/hopsworks-api/yarnui/https://maggydemo22-worker-1.internal.cloudapp.net:8044/node/containerlogs/container_e11_1623744201905_0007_01_000001/demo_ml_meb10180__meb10180\">Link</a></td></tr></table>"
      ],
      "text/plain": [
       "<IPython.core.display.HTML object>"
      ]
     },
     "metadata": {},
     "output_type": "display_data"
    },
    {
     "name": "stdout",
     "output_type": "stream",
     "text": [
      "SparkSession available as 'spark'.\n",
      "-----------------------------------------------\n",
      "This notebook is tested with:\n",
      "  - TensorFlow 2.4.1.\n",
      "  - Hopsworks 2.2.0.1.\n",
      "  - Spark 2.4.3.2."
     ]
    }
   ],
   "source": [
    "import numpy as np\n",
    "import tensorflow as tf\n",
    "\n",
    "import hops\n",
    "from hops import serving\n",
    "from hops import kafka\n",
    "import hsfs\n",
    "\n",
    "# SparkSession available as 'spark'\n",
    "print(\n",
    "    f\"-----------------------------------------------\\n\" \\\n",
    "    f\"This notebook is tested with:\\n\" \\\n",
    "    f\"  - TensorFlow {tf.__version__}.\\n\" \\\n",
    "    f\"  - Hopsworks {hops.__version__}.\\n\" \\\n",
    "    f\"  - Spark {spark.version}.\\n\"\n",
    ")"
   ]
  },
  {
   "cell_type": "markdown",
   "metadata": {},
   "source": [
    "## Query Model Repository for best Ship Iceberg Classifer"
   ]
  },
  {
   "cell_type": "code",
   "execution_count": 2,
   "metadata": {},
   "outputs": [
    {
     "name": "stdout",
     "output_type": "stream",
     "text": [
      "Model name: ship_iceberg_classifier\n",
      "Model version: 4\n",
      "{'val_loss': '0.45518478751182556', 'train_loss': '0.4454026520252228', 'train_accuracy': '0.7833201289176941', 'val_accuracy': '0.7536656856536865'}"
     ]
    }
   ],
   "source": [
    "from hops import model\n",
    "from hops.model import Metric\n",
    "\n",
    "MODEL_NAME = 'ship_iceberg_classifier'\n",
    "EVALUATION_METRIC = 'val_accuracy'\n",
    "\n",
    "best_model = model.get_best_model(MODEL_NAME, EVALUATION_METRIC, Metric.MAX)\n",
    "\n",
    "print('Model name: ' + best_model['name'])\n",
    "print('Model version: ' + str(best_model['version']))\n",
    "print(best_model['metrics'])"
   ]
  },
  {
   "cell_type": "markdown",
   "metadata": {},
   "source": [
    "## Create Model Serving of Exported Model"
   ]
  },
  {
   "cell_type": "code",
   "execution_count": 3,
   "metadata": {},
   "outputs": [
    {
     "name": "stdout",
     "output_type": "stream",
     "text": [
      "Name of the serving model is ShipIcebergClassifier\n",
      "Models/ship_iceberg_classifier\n",
      "ShipIcebergClassifier\n",
      "4"
     ]
    }
   ],
   "source": [
    "# Create serving\n",
    "model_path = 'Models/' + best_model['name']\n",
    "\n",
    "# Since the name of the serving model cannot contain special characters.\n",
    "serving_model_name = best_model['name'].title().replace('_', '')\n",
    "print('Name of the serving model is {}'.format(serving_model_name))\n",
    "\n",
    "print(model_path)\n",
    "print(serving_model_name)\n",
    "print(best_model['version'])"
   ]
  },
  {
   "cell_type": "code",
   "execution_count": 4,
   "metadata": {},
   "outputs": [
    {
     "name": "stdout",
     "output_type": "stream",
     "text": [
      "Inferring model server from artifact files: TENSORFLOW_SERVING\n",
      "Creating serving ShipIcebergClassifier for artifact /Projects/demo_ml_meb10180/Models/ship_iceberg_classifier ...\n",
      "Serving ShipIcebergClassifier successfully created"
     ]
    }
   ],
   "source": [
    "response = serving.create_or_update(\n",
    "                                        serving_model_name,\n",
    "                                        model_path,\n",
    "                                        model_version= best_model['version']\n",
    "                                    )"
   ]
  },
  {
   "cell_type": "code",
   "execution_count": 5,
   "metadata": {},
   "outputs": [
    {
     "name": "stdout",
     "output_type": "stream",
     "text": [
      "ShipIcebergClassifier"
     ]
    }
   ],
   "source": [
    "# List all available servings in the project\n",
    "for s in serving.get_all():\n",
    "    print(s.name)"
   ]
  },
  {
   "cell_type": "code",
   "execution_count": 6,
   "metadata": {},
   "outputs": [
    {
     "name": "stdout",
     "output_type": "stream",
     "text": [
      "'Running'"
     ]
    }
   ],
   "source": [
    "# Get serving status\n",
    "serving.get_status(serving_model_name)"
   ]
  },
  {
   "cell_type": "markdown",
   "metadata": {},
   "source": [
    "## Start Model Serving Server"
   ]
  },
  {
   "cell_type": "code",
   "execution_count": 7,
   "metadata": {},
   "outputs": [],
   "source": [
    "if serving.get_status(serving_model_name) == 'Stopped':\n",
    "    serving.start(serving_model_name)"
   ]
  },
  {
   "cell_type": "code",
   "execution_count": 8,
   "metadata": {},
   "outputs": [],
   "source": [
    "import time\n",
    "\n",
    "while serving.get_status(serving_model_name) != \"Running\":\n",
    "    time.sleep(5) # Let the serving startup correctly\n",
    "time.sleep(5)"
   ]
  },
  {
   "cell_type": "code",
   "execution_count": 9,
   "metadata": {},
   "outputs": [
    {
     "name": "stdout",
     "output_type": "stream",
     "text": [
      "'Running'"
     ]
    }
   ],
   "source": [
    "# Get serving status\n",
    "serving.get_status(serving_model_name)"
   ]
  },
  {
   "cell_type": "markdown",
   "metadata": {},
   "source": [
    "# Send Prediction Requests to the Served Model using Hopsworks REST API"
   ]
  },
  {
   "cell_type": "markdown",
   "metadata": {},
   "source": [
    "## Make inference with randomly generated data"
   ]
  },
  {
   "cell_type": "code",
   "execution_count": 10,
   "metadata": {},
   "outputs": [
    {
     "name": "stdout",
     "output_type": "stream",
     "text": [
      "{'predictions': [[0.189005345]]}\n",
      "{'predictions': [[0.192818671]]}\n",
      "{'predictions': [[0.194452375]]}\n",
      "{'predictions': [[0.176507056]]}\n",
      "{'predictions': [[0.188528389]]}\n",
      "{'predictions': [[0.185771018]]}\n",
      "{'predictions': [[0.189107627]]}\n",
      "{'predictions': [[0.187791795]]}\n",
      "{'predictions': [[0.185963631]]}\n",
      "{'predictions': [[0.183850318]]}\n",
      "{'predictions': [[0.180418968]]}\n",
      "{'predictions': [[0.199792385]]}\n",
      "{'predictions': [[0.194208771]]}\n",
      "{'predictions': [[0.196411133]]}\n",
      "{'predictions': [[0.192314506]]}\n",
      "{'predictions': [[0.191441298]]}\n",
      "{'predictions': [[0.191235125]]}\n",
      "{'predictions': [[0.196228027]]}\n",
      "{'predictions': [[0.193149388]]}\n",
      "{'predictions': [[0.182742715]]}"
     ]
    }
   ],
   "source": [
    "for i in range(20):\n",
    "    data = {\n",
    "                \"signature_name\": \"serving_default\",\n",
    "                \"instances\": [np.random.rand(75, 75, 3).tolist()]\n",
    "            }\n",
    "    \n",
    "    response = serving.make_inference_request(serving_model_name, data)\n",
    "    print(response)"
   ]
  },
  {
   "cell_type": "markdown",
   "metadata": {},
   "source": [
    "## Make inference with data from feature store"
   ]
  },
  {
   "cell_type": "code",
   "execution_count": 11,
   "metadata": {},
   "outputs": [],
   "source": [
    "def create_severing_datasets():\n",
    "    # Establish a connection with the Hopsworks feature store\n",
    "    #     engine='training' is needed so that the executors in Spark can connect to feature store\n",
    "    connection = hsfs.connection(engine='training')\n",
    "    # Get the feature store handle for the project's feature store\n",
    "    fs = connection.get_feature_store()\n",
    "    \n",
    "\n",
    "    TEST_FS_NAME = 'test_tfrecords_iceberg_classification_dataset'\n",
    "    \n",
    "    def decode(sample):\n",
    "        \"\"\"Decode each training sample.\n",
    "        \n",
    "        This funtionc decode each sample and return it in a format that is ready for training.\n",
    "        \n",
    "        Parameters:\n",
    "        - sample: raw features of a data sample stored in a dictionary-like object\n",
    "        \n",
    "        Returns:\n",
    "        - x: 'band_1', 'band_2', and 'band_avg' will be reshaped and stacked\n",
    "             and form the input of the model\n",
    "        - y: 'is_iceberg' will be the output of the model.\n",
    "        \"\"\"\n",
    "        \n",
    "        name_list = ['band_1', 'band_2', 'band_avg', 'is_iceberg']\n",
    "        x = tf.stack([sample[name_list[0]], sample[name_list[1]], sample[name_list[2]]], axis=1)\n",
    "        x = tf.reshape(x, [75, 75, 3])\n",
    "        y = [tf.cast(sample[name_list[3]], tf.float32)]\n",
    "        return x,y\n",
    "\n",
    "    \n",
    "    # Evaluation dataset in TFRecord format\n",
    "    eval_ds = fs.get_training_dataset(name=TEST_FS_NAME).tf_data(target_name='is_iceberg')\n",
    "    eval_ds = eval_ds.tf_record_dataset(process=False, batch_size=1, num_epochs=1)\n",
    "    eval_ds_processed = eval_ds.map(decode).repeat(1).cache().batch(1).prefetch(tf.data.experimental.AUTOTUNE)\n",
    "    \n",
    "    return eval_ds_processed"
   ]
  },
  {
   "cell_type": "code",
   "execution_count": 12,
   "metadata": {},
   "outputs": [],
   "source": [
    "def perform_inference(eval_ds, times=100):\n",
    "    # Create iterator over the dataset\n",
    "    dataset_iter = iter(eval_ds)\n",
    "    \n",
    "    for i in range(times):\n",
    "        x, y = dataset_iter.get_next()\n",
    "        request_data={}\n",
    "        request_data['instances'] = [x.numpy().reshape((75, 75, 3)).tolist()]\n",
    "        \n",
    "        response = serving.make_inference_request(\"ShipIcebergClassifier\", data=request_data, verb= \":predict\")\n",
    "        \n",
    "        print(\"prediction: {:.10f},\\t is_iceberg (ground truth): {}\".format(response['predictions'][0][0], y[0][0]))       \n",
    "        "
   ]
  },
  {
   "cell_type": "code",
   "execution_count": 13,
   "metadata": {},
   "outputs": [
    {
     "name": "stdout",
     "output_type": "stream",
     "text": [
      "Connected. Call `.close()` to terminate connection gracefully.\n",
      "VersionWarning: No version provided for getting training dataset `test_tfrecords_iceberg_classification_dataset`, defaulting to `1`."
     ]
    }
   ],
   "source": [
    "eval_ds = create_severing_datasets()"
   ]
  },
  {
   "cell_type": "code",
   "execution_count": 14,
   "metadata": {},
   "outputs": [
    {
     "name": "stdout",
     "output_type": "stream",
     "text": [
      "<class 'tensorflow.python.data.ops.dataset_ops.PrefetchDataset'>"
     ]
    }
   ],
   "source": [
    "type(eval_ds)"
   ]
  },
  {
   "cell_type": "code",
   "execution_count": 15,
   "metadata": {
    "scrolled": true
   },
   "outputs": [
    {
     "name": "stdout",
     "output_type": "stream",
     "text": [
      "prediction: 0.7798167470,\t is_iceberg (ground truth): 1.0\n",
      "prediction: 0.7928276660,\t is_iceberg (ground truth): 0.0\n",
      "prediction: 0.7314896580,\t is_iceberg (ground truth): 0.0\n",
      "prediction: 0.7222115990,\t is_iceberg (ground truth): 1.0\n",
      "prediction: 0.7251361610,\t is_iceberg (ground truth): 1.0\n",
      "prediction: 0.0000154048,\t is_iceberg (ground truth): 0.0\n",
      "prediction: 0.7707872390,\t is_iceberg (ground truth): 1.0\n",
      "prediction: 0.7716626520,\t is_iceberg (ground truth): 1.0\n",
      "prediction: 0.0000000054,\t is_iceberg (ground truth): 0.0\n",
      "prediction: 0.7763715980,\t is_iceberg (ground truth): 1.0\n",
      "prediction: 0.7115092870,\t is_iceberg (ground truth): 0.0\n",
      "prediction: 0.0021997690,\t is_iceberg (ground truth): 0.0\n",
      "prediction: 0.7928642030,\t is_iceberg (ground truth): 1.0\n",
      "prediction: 0.7327595350,\t is_iceberg (ground truth): 1.0\n",
      "prediction: 0.0000000000,\t is_iceberg (ground truth): 0.0\n",
      "prediction: 0.7611858840,\t is_iceberg (ground truth): 1.0\n",
      "prediction: 0.7156643870,\t is_iceberg (ground truth): 1.0\n",
      "prediction: 0.3643761870,\t is_iceberg (ground truth): 0.0\n",
      "prediction: 0.0003538132,\t is_iceberg (ground truth): 0.0\n",
      "prediction: 0.3757025300,\t is_iceberg (ground truth): 0.0\n",
      "prediction: 0.7996071580,\t is_iceberg (ground truth): 0.0\n",
      "prediction: 0.0099918246,\t is_iceberg (ground truth): 0.0\n",
      "prediction: 0.2709758280,\t is_iceberg (ground truth): 0.0\n",
      "prediction: 0.8223017450,\t is_iceberg (ground truth): 1.0\n",
      "prediction: 0.7842272520,\t is_iceberg (ground truth): 1.0\n",
      "prediction: 0.7305473090,\t is_iceberg (ground truth): 1.0\n",
      "prediction: 0.0968967676,\t is_iceberg (ground truth): 0.0\n",
      "prediction: 0.0043281913,\t is_iceberg (ground truth): 0.0\n",
      "prediction: 0.5850303170,\t is_iceberg (ground truth): 0.0\n",
      "prediction: 0.4045377970,\t is_iceberg (ground truth): 0.0\n",
      "prediction: 0.7979457380,\t is_iceberg (ground truth): 1.0\n",
      "prediction: 0.7151480910,\t is_iceberg (ground truth): 1.0\n",
      "prediction: 0.0000005008,\t is_iceberg (ground truth): 0.0\n",
      "prediction: 0.7327408190,\t is_iceberg (ground truth): 1.0\n",
      "prediction: 0.8011024000,\t is_iceberg (ground truth): 1.0\n",
      "prediction: 0.5947580930,\t is_iceberg (ground truth): 0.0\n",
      "prediction: 0.7295997140,\t is_iceberg (ground truth): 0.0\n",
      "prediction: 0.7330296040,\t is_iceberg (ground truth): 1.0\n",
      "prediction: 0.8734516500,\t is_iceberg (ground truth): 1.0\n",
      "prediction: 0.8316342830,\t is_iceberg (ground truth): 0.0\n",
      "prediction: 0.7043327090,\t is_iceberg (ground truth): 1.0\n",
      "prediction: 0.6777372360,\t is_iceberg (ground truth): 0.0\n",
      "prediction: 0.0000002024,\t is_iceberg (ground truth): 0.0\n",
      "prediction: 0.0001188054,\t is_iceberg (ground truth): 0.0\n",
      "prediction: 0.6518957610,\t is_iceberg (ground truth): 1.0\n",
      "prediction: 0.3205314580,\t is_iceberg (ground truth): 0.0\n",
      "prediction: 0.0000000611,\t is_iceberg (ground truth): 0.0\n",
      "prediction: 0.7312846780,\t is_iceberg (ground truth): 1.0\n",
      "prediction: 0.1011848750,\t is_iceberg (ground truth): 0.0\n",
      "prediction: 0.0000068078,\t is_iceberg (ground truth): 0.0\n",
      "prediction: 0.8613359330,\t is_iceberg (ground truth): 1.0\n",
      "prediction: 0.7242252230,\t is_iceberg (ground truth): 0.0\n",
      "prediction: 0.7486712930,\t is_iceberg (ground truth): 1.0\n",
      "prediction: 0.7769055370,\t is_iceberg (ground truth): 1.0\n",
      "prediction: 0.8160455820,\t is_iceberg (ground truth): 0.0\n",
      "prediction: 0.6965842250,\t is_iceberg (ground truth): 1.0\n",
      "prediction: 0.7494702340,\t is_iceberg (ground truth): 1.0\n",
      "prediction: 0.2590226830,\t is_iceberg (ground truth): 0.0\n",
      "prediction: 0.7797453400,\t is_iceberg (ground truth): 1.0\n",
      "prediction: 0.7832893130,\t is_iceberg (ground truth): 1.0\n",
      "prediction: 0.7720057960,\t is_iceberg (ground truth): 1.0\n",
      "prediction: 0.0000000025,\t is_iceberg (ground truth): 0.0\n",
      "prediction: 0.7936773300,\t is_iceberg (ground truth): 1.0\n",
      "prediction: 0.6375537510,\t is_iceberg (ground truth): 0.0\n",
      "prediction: 0.7403252120,\t is_iceberg (ground truth): 1.0\n",
      "prediction: 0.7340081930,\t is_iceberg (ground truth): 0.0\n",
      "prediction: 0.8271297810,\t is_iceberg (ground truth): 1.0\n",
      "prediction: 0.8359459640,\t is_iceberg (ground truth): 1.0\n",
      "prediction: 0.7841571570,\t is_iceberg (ground truth): 1.0\n",
      "prediction: 0.7216290000,\t is_iceberg (ground truth): 0.0\n",
      "prediction: 0.4986115100,\t is_iceberg (ground truth): 1.0\n",
      "prediction: 0.0007790923,\t is_iceberg (ground truth): 0.0\n",
      "prediction: 0.8338878750,\t is_iceberg (ground truth): 1.0\n",
      "prediction: 0.0000156518,\t is_iceberg (ground truth): 0.0\n",
      "prediction: 0.0000000132,\t is_iceberg (ground truth): 0.0\n",
      "prediction: 0.3955497150,\t is_iceberg (ground truth): 0.0\n",
      "prediction: 0.8120220300,\t is_iceberg (ground truth): 0.0\n",
      "prediction: 0.1583928760,\t is_iceberg (ground truth): 0.0\n",
      "prediction: 0.0000243145,\t is_iceberg (ground truth): 0.0\n",
      "prediction: 0.8532366160,\t is_iceberg (ground truth): 1.0\n",
      "prediction: 0.8899075980,\t is_iceberg (ground truth): 1.0\n",
      "prediction: 0.7757161860,\t is_iceberg (ground truth): 1.0\n",
      "prediction: 0.7368800000,\t is_iceberg (ground truth): 1.0\n",
      "prediction: 0.4066724180,\t is_iceberg (ground truth): 0.0\n",
      "prediction: 0.5986607070,\t is_iceberg (ground truth): 0.0\n",
      "prediction: 0.8184036020,\t is_iceberg (ground truth): 1.0\n",
      "prediction: 0.8631699090,\t is_iceberg (ground truth): 1.0\n",
      "prediction: 0.0000001209,\t is_iceberg (ground truth): 0.0\n",
      "prediction: 0.7882375720,\t is_iceberg (ground truth): 1.0\n",
      "prediction: 0.7580490710,\t is_iceberg (ground truth): 1.0\n",
      "prediction: 0.7650533320,\t is_iceberg (ground truth): 1.0\n",
      "prediction: 0.7661683560,\t is_iceberg (ground truth): 1.0\n",
      "prediction: 0.0000008134,\t is_iceberg (ground truth): 0.0\n",
      "prediction: 0.8422234060,\t is_iceberg (ground truth): 1.0\n",
      "prediction: 0.6788995860,\t is_iceberg (ground truth): 1.0\n",
      "prediction: 0.6967937350,\t is_iceberg (ground truth): 1.0\n",
      "prediction: 0.1087613110,\t is_iceberg (ground truth): 0.0\n",
      "prediction: 0.8522577290,\t is_iceberg (ground truth): 1.0\n",
      "prediction: 0.1889540850,\t is_iceberg (ground truth): 0.0\n",
      "prediction: 0.8324538470,\t is_iceberg (ground truth): 1.0"
     ]
    }
   ],
   "source": [
    "perform_inference(eval_ds)"
   ]
  },
  {
   "cell_type": "markdown",
   "metadata": {},
   "source": [
    "# End of Step 4."
   ]
  }
 ],
 "metadata": {
  "kernelspec": {
   "display_name": "PySpark",
   "language": "python",
   "name": "pysparkkernel"
  },
  "language_info": {
   "codemirror_mode": {
    "name": "python",
    "version": 3
   },
   "mimetype": "text/x-python",
   "name": "pyspark",
   "pygments_lexer": "python3"
  }
 },
 "nbformat": 4,
 "nbformat_minor": 4
}