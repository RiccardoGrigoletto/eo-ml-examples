{
 "cells": [
  {
   "cell_type": "markdown",
   "metadata": {},
   "source": [
    "# Iceberg Classification Step 3b: Ablation Study\n",
    "The following code includes demonstration for:\n",
    "- get data from ``feature store``\n",
    "- training with maggy\n",
    "- ablation study"
   ]
  },
  {
   "cell_type": "code",
   "execution_count": 1,
   "metadata": {},
   "outputs": [
    {
     "name": "stdout",
     "output_type": "stream",
     "text": [
      "Starting Spark application\n"
     ]
    },
    {
     "data": {
      "text/html": [
       "<table>\n",
       "<tr><th>ID</th><th>YARN Application ID</th><th>Kind</th><th>State</th><th>Spark UI</th><th>Driver log</th></tr><tr><td>70</td><td>application_1623744201905_0003</td><td>pyspark</td><td>idle</td><td><a target=\"_blank\" href=\"/hopsworks-api/yarnui/https://maggydemo22-master.internal.cloudapp.net:8089/proxy/application_1623744201905_0003/\">Link</a></td><td><a target=\"_blank\" href=\"/hopsworks-api/yarnui/https://maggydemo22-worker-1.internal.cloudapp.net:8044/node/containerlogs/container_e11_1623744201905_0003_01_000001/demo_ml_meb10180__meb10180\">Link</a></td></tr></table>"
      ],
      "text/plain": [
       "<IPython.core.display.HTML object>"
      ]
     },
     "metadata": {},
     "output_type": "display_data"
    },
    {
     "name": "stdout",
     "output_type": "stream",
     "text": [
      "SparkSession available as 'spark'.\n",
      "-----------------------------------------------\n",
      "This notebook is tested with:\n",
      "  - TensorFlow 2.4.1.\n",
      "  - Hopsworks 2.2.0.1.\n",
      "  - Maggy 1.0.0rc0.\n",
      "  - Spark 2.4.3.2."
     ]
    }
   ],
   "source": [
    "import tensorflow as tf\n",
    "import hops\n",
    "from hops import tensorboard\n",
    "from hops import model as hopsworks_model\n",
    "import hsfs\n",
    "import maggy\n",
    "import maggy.version\n",
    "\n",
    "# SparkSession available as 'spark'\n",
    "print(\n",
    "    f\"-----------------------------------------------\\n\" \\\n",
    "    f\"This notebook is tested with:\\n\" \\\n",
    "    f\"  - TensorFlow {tf.__version__}.\\n\" \\\n",
    "    f\"  - Hopsworks {hops.__version__}.\\n\" \\\n",
    "    f\"  - Maggy {maggy.version.__version__}.\\n\" \\\n",
    "    f\"  - Spark {spark.version}.\\n\"\n",
    ")"
   ]
  },
  {
   "cell_type": "code",
   "execution_count": 2,
   "metadata": {},
   "outputs": [],
   "source": [
    "def create_model():\n",
    "    \"\"\"Returns a classification model for ablation study.\n",
    "    \n",
    "    Parameters:\n",
    "    - input_shape(tuple): input shape of the CNN model.\n",
    "    \n",
    "    Returns:\n",
    "    - a TensorFlow keras model that is not compiled yet.\n",
    "    \n",
    "    \"\"\"\n",
    "    # input_shape of the model\n",
    "    INPUT_SHAPE= (75, 75, 3)\n",
    "    \n",
    "    model = tf.keras.models.Sequential()\n",
    "    \n",
    "    #Conv Layer 1\n",
    "    model.add(tf.keras.layers.Conv2D(16, kernel_size=(3, 3), activation='relu', input_shape=INPUT_SHAPE, name='my_conv_1'))\n",
    "    model.add(tf.keras.layers.MaxPooling2D(pool_size=(2, 2), strides=(2,2), name='my_maxpool_1'))\n",
    "    model.add(tf.keras.layers.Dropout(0.2, name='my_dropout_1'))\n",
    "\n",
    "    #Conv Layer 2\n",
    "    model.add(tf.keras.layers.Conv2D(32, kernel_size=(3, 3), activation='relu', name='my_conv_2'))\n",
    "    model.add(tf.keras.layers.MaxPooling2D(pool_size=(2, 2), strides=(2, 2), name='my_maxpool_2'))\n",
    "    model.add(tf.keras.layers.Dropout(0.2, name='my_dropout_2'))\n",
    "\n",
    "    #Conv Layer 3\n",
    "    model.add(tf.keras.layers.Conv2D(32, kernel_size=(3, 3), activation='relu', name='my_conv_3'))\n",
    "    model.add(tf.keras.layers.MaxPooling2D(pool_size=(2, 2), strides=(2, 2), name='my_maxpool_3'))\n",
    "    model.add(tf.keras.layers.Dropout(0.2, name='my_dropout_3'))\n",
    "\n",
    "    #Conv Layer 4\n",
    "    model.add(tf.keras.layers.Conv2D(16, kernel_size=(3, 3), activation='relu', name='my_conv_4'))\n",
    "    model.add(tf.keras.layers.MaxPooling2D(pool_size=(2, 2), strides=(2, 2), name='my_maxpool_4'))\n",
    "    model.add(tf.keras.layers.Dropout(0.2, name='my_dropout_4'))\n",
    "\n",
    "    #Flatten the data for upcoming dense layers\n",
    "    model.add(tf.keras.layers.Flatten())\n",
    "\n",
    "    #Dense Layers\n",
    "    model.add(tf.keras.layers.Dense(256))\n",
    "    model.add(tf.keras.layers.Activation('relu'))\n",
    "    model.add(tf.keras.layers.Dropout(0.2))\n",
    "\n",
    "    #Dense Layer 2\n",
    "    model.add(tf.keras.layers.Dense(128))\n",
    "    model.add(tf.keras.layers.Activation('relu'))\n",
    "    model.add(tf.keras.layers.Dropout(0.2))\n",
    "\n",
    "    #Sigmoid Layer\n",
    "    model.add(tf.keras.layers.Dense(1))\n",
    "    model.add(tf.keras.layers.Activation('sigmoid'))\n",
    "    return model"
   ]
  },
  {
   "cell_type": "code",
   "execution_count": 3,
   "metadata": {},
   "outputs": [],
   "source": [
    "from maggy.callbacks import KerasBatchEnd\n",
    "\n",
    "def create_datasets(epochs):\n",
    "    # Establish a connection with the Hopsworks feature store\n",
    "    #     engine='training' is needed so that the executors in Spark can connect to feature store\n",
    "    connection = hsfs.connection(engine='training') \n",
    "    # Get the feature store handle for the project's feature store\n",
    "    fs = connection.get_feature_store()\n",
    "    \n",
    "    # Name of the training dataset in feature store\n",
    "    TRAIN_FS_NAME = 'train_tfrecords_iceberg_classification_dataset'\n",
    "    # Name of the test dataset in feature sotre\n",
    "    TEST_FS_NAME = 'test_tfrecords_iceberg_classification_dataset'\n",
    "    # Number of epochs to training\n",
    "    EPOCHS = epochs\n",
    "    # Training batch size\n",
    "    TRAIN_BATCH_SIZE = 32\n",
    "    # Evaluation batch size\n",
    "    EVAL_BATCH_SIZE = 1\n",
    "    # Shuffle buffer size for TensorFlow dataset\n",
    "    SHUFFLE_BUFFER_SIZE = 10000\n",
    "    \n",
    "    def decode(sample):\n",
    "        \"\"\"Decode each training sample.\n",
    "        \n",
    "        This funtionc decode each sample and return it in a format that is ready for training.\n",
    "        \n",
    "        Parameters:\n",
    "        - sample: raw features of a data sample stored in a dictionary-like object\n",
    "        \n",
    "        Returns:\n",
    "        - x: 'band_1', 'band_2', and 'band_avg' will be reshaped and stacked\n",
    "             and form the input of the model\n",
    "        - y: 'is_iceberg' will be the output of the model.\n",
    "        \"\"\"\n",
    "        \n",
    "        name_list = ['band_1', 'band_2', 'band_avg', 'is_iceberg']\n",
    "        x = tf.stack([sample[name_list[0]], sample[name_list[1]], sample[name_list[2]]], axis=1)\n",
    "        x = tf.reshape(x, [75, 75, 3])\n",
    "        y = [tf.cast(sample[name_list[3]], tf.float32)]\n",
    "        return x,y\n",
    "    \n",
    "    # Training dataset in TFRecord format\n",
    "    train_ds = fs.get_training_dataset(name=TRAIN_FS_NAME).tf_data(target_name='is_iceberg')\n",
    "    train_ds = train_ds.tf_record_dataset(process=False, batch_size=TRAIN_BATCH_SIZE, num_epochs=EPOCHS)\n",
    "    train_ds_processed = train_ds.map(decode).shuffle(SHUFFLE_BUFFER_SIZE).repeat(EPOCHS).cache().batch(TRAIN_BATCH_SIZE).prefetch(tf.data.experimental.AUTOTUNE)\n",
    "    \n",
    "    # Evaluation dataset in TFRecord format\n",
    "    eval_ds = fs.get_training_dataset(name=TEST_FS_NAME).tf_data(target_name='is_iceberg')\n",
    "    eval_ds = eval_ds.tf_record_dataset(process=False, batch_size=EVAL_BATCH_SIZE, num_epochs=EPOCHS)\n",
    "    eval_ds_processed = eval_ds.map(decode).shuffle(SHUFFLE_BUFFER_SIZE).repeat(EPOCHS).cache().batch(EVAL_BATCH_SIZE).prefetch(tf.data.experimental.AUTOTUNE)\n",
    "    \n",
    "    return train_ds_processed, eval_ds_processed"
   ]
  },
  {
   "cell_type": "code",
   "execution_count": 4,
   "metadata": {},
   "outputs": [],
   "source": [
    "def train_fn(dataset_function, model_function):\n",
    "    \"\"\"\"Wrapper function for the experiment.\n",
    "    \n",
    "    Parameters:\n",
    "    - learning_rate: learning rate of the optimizer during training.\n",
    "    \n",
    "    Returns:\n",
    "    - metrics: training summary.\n",
    "    \n",
    "    \"\"\"\n",
    "    # ---------------- Initialization ----------------\n",
    "   \n",
    "    # Clear session info\n",
    "    tf.keras.backend.clear_session()\n",
    "    \n",
    "    # Set up visible GPU\n",
    "    gpus = tf.config.experimental.list_physical_devices('GPU')\n",
    "    if gpus:\n",
    "      try:\n",
    "        # Currently, memory growth needs to be the same across GPUs\n",
    "        for gpu in gpus:\n",
    "          tf.config.experimental.set_memory_growth(gpu, True)\n",
    "        logical_gpus = tf.config.experimental.list_logical_devices('GPU')\n",
    "        print(len(gpus), \"Physical GPUs,\", len(logical_gpus), \"Logical GPUs\")\n",
    "      except RuntimeError as e:\n",
    "        # Memory growth must be set before GPUs have been initialized\n",
    "        print(e)\n",
    "    \n",
    "    # ---------------- Initialization ----------------\n",
    "    \n",
    "    # ---------------- Hyperparameters ----------------\n",
    "    # Number of epochs to training\n",
    "    EPOCHS = 3\n",
    "    # learning rate of the optimizer during training\n",
    "    LEARNING_RATE = 0.001\n",
    "    # ---------------- Hyperparameters ----------------\n",
    "    \n",
    "    # ---------------- Training Process ----------------\n",
    "    # use this strategy to test your code before switching to other strategies which actually distributes to multiple devices/machines.\n",
    "    #strategy = tf.distribute.OneDeviceStrategy(device='/gpu:0')\n",
    "\n",
    "    # construct model under distribution strategy scope\n",
    "    #with strategy.scope(): \n",
    "    model = model_function()\n",
    "    model.compile(optimizer=tf.keras.optimizers.Adam(LEARNING_RATE), loss='binary_crossentropy',  metrics=['accuracy'])\n",
    "\n",
    "    # Define the TensorBoard and ModelCheckpoint callbacks.\n",
    "#     callbacks = []\n",
    "#     callbacks.append(tf.keras.callbacks.TensorBoard(log_dir=tensorboard.logdir(), histogram_freq=0, write_graph=True, write_images=True, profile_batch='5,10'))\n",
    "#     callbacks.append(tf.keras.callbacks.ModelCheckpoint(tensorboard.logdir() + '/checkpoint-{epoch}.h5', monitor='acc', verbose=0, save_best_only=True))\n",
    "    # maggy: REPORTER API through keras callback\n",
    "#     callbacks.append(KerasBatchEnd(reporter, metric='acc'))\n",
    "#     callbacks = [KerasBatchEnd(reporter, metric='acc')]\n",
    "\n",
    "    train_ds_processed, eval_ds_processed = dataset_function(EPOCHS)\n",
    "\n",
    "    # Start training the model.\n",
    "    history = model.fit(\n",
    "        train_ds_processed,\n",
    "        epochs=EPOCHS,\n",
    "        verbose=1,\n",
    "        validation_data=eval_ds_processed,\n",
    "#         callbacks=callbacks\n",
    "    )\n",
    "    \n",
    "    # 'metrics' is the return value of this function;\n",
    "    #     The values in 'metrics' will be printed to the notebook cell that launch the experiment\n",
    "    metrics = {\n",
    "        'train_loss': history.history['loss'][-1],\n",
    "        'train_accuracy': history.history['accuracy'][-1],\n",
    "        'val_loss': history.history['val_loss'][-1],\n",
    "        'val_accuracy': history.history['val_accuracy'][-1],\n",
    "    } \n",
    "    # ---------------- Training Process ----------------\n",
    "    \n",
    "    return metrics['val_accuracy']"
   ]
  },
  {
   "cell_type": "markdown",
   "metadata": {},
   "source": [
    "## Ablation Study Part"
   ]
  },
  {
   "cell_type": "code",
   "execution_count": 5,
   "metadata": {},
   "outputs": [
    {
     "name": "stdout",
     "output_type": "stream",
     "text": [
      "Included single layers are: \n",
      "\n",
      "my_conv_1\n",
      "my_conv_3\n",
      "my_conv_4\n",
      "my_conv_2\n",
      "\n",
      "\n",
      "Ablation Study summary: \n",
      " {'training_dataset_name': 'iceberg', 'training_dataset_version': 1, 'label_name': 'is_iceberg', 'included_features': [], 'included_layers': ['my_conv_1', 'my_conv_3', 'my_conv_4', 'my_conv_2'], 'custom_dataset_generator': True}"
     ]
    }
   ],
   "source": [
    "from maggy.ablation import AblationStudy\n",
    "\n",
    "# create an AblationStudy instance\n",
    "iceberg_ablation = AblationStudy('iceberg', training_dataset_version=1, label_name=\"is_iceberg\")\n",
    "\n",
    "# pass the model generator function to ablation study\n",
    "iceberg_ablation.set_dataset_generator(create_datasets)\n",
    "# set the base model generator\n",
    "iceberg_ablation.model.set_base_model_generator(create_model)\n",
    "\n",
    "# add layers to the ablation study\n",
    "iceberg_ablation.model.layers.include(['my_conv_1', 'my_conv_2', 'my_conv_3', 'my_conv_4'])\n",
    "#iceberg_ablation.model.layers.include(['my_maxpool_1', 'my_maxpool_2', 'my_maxpool_3', 'my_maxpool_4'])\n",
    "#iceberg_ablation.model.layers.include(['my_dropout_1', 'my_dropout_2', 'my_dropout_3', 'my_dropout_4'])\n",
    "\n",
    "iceberg_ablation.model.layers.print_all()\n",
    "\n",
    "# add a layer group using a prefix\n",
    "\n",
    "# iceberg_ablation.model.layers.include_groups(prefix='my_conv')\n",
    "# iceberg_ablation.model.layers.include_groups(prefix='my_maxpool')\n",
    "# iceberg_ablation.model.layers.include_groups(prefix='my_dropout')\n",
    "\n",
    "# iceberg_ablation.model.layers.print_all_groups()\n",
    "\n",
    "print('\\n\\nAblation Study summary: \\n {}'.format(iceberg_ablation.to_dict()))"
   ]
  },
  {
   "cell_type": "code",
   "execution_count": 6,
   "metadata": {},
   "outputs": [],
   "source": [
    "# Create a config for lagom\n",
    "from maggy.experiment_config import AblationConfig\n",
    "\n",
    "config = AblationConfig(name='Iceberg_ship_classifier_ablation_study', ablation_study=iceberg_ablation, ablator='loco', description='Ablation_Study', hb_interval=1)"
   ]
  },
  {
   "cell_type": "code",
   "execution_count": 7,
   "metadata": {
    "scrolled": true
   },
   "outputs": [
    {
     "data": {
      "application/vnd.jupyter.widget-view+json": {
       "model_id": "eac98cebbdd247d1afb8ab52b4188931",
       "version_major": 2,
       "version_minor": 0
      },
      "text/plain": [
       "HBox(children=(FloatProgress(value=0.0, description='Maggy experiment', max=5.0, style=ProgressStyle(descripti…"
      ]
     },
     "metadata": {},
     "output_type": "display_data"
    },
    {
     "name": "stdout",
     "output_type": "stream",
     "text": [
      "0: Connected. Call `.close()` to terminate connection gracefully.\n",
      "0: \n",
      "0: \n",
      "0: Epoch 1/3\n",
      "0: \n",
      "0: \n",
      "1: Connected. Call `.close()` to terminate connection gracefully.\n",
      "1: \n",
      "1: \n",
      "1: Epoch 1/3\n",
      "1: \n",
      "1: \n",
      "0: \n",
      "0: \n",
      "1: \n",
      "1: \n",
      "0: Epoch 2/3\n",
      "1: Epoch 2/3\n",
      "0: Epoch 3/3\n",
      "1: Epoch 3/3\n",
      "0: Connected. Call `.close()` to terminate connection gracefully.\n",
      "0: Epoch 1/3\n",
      "1: Connected. Call `.close()` to terminate connection gracefully.\n",
      "1: Epoch 1/3\n",
      "0: Epoch 2/3\n",
      "1: Epoch 2/3\n",
      "0: Epoch 3/3\n",
      "1: Epoch 3/3\n",
      "1: Connected. Call `.close()` to terminate connection gracefully.\n",
      "1: Epoch 1/3\n",
      "1: Epoch 2/3\n",
      "1: Epoch 3/3\n",
      "You are running Maggy on Hopsworks.\n",
      "\n",
      "------ LOCO Results ------ \n",
      "BEST Config Excludes {\"ablated_feature\": \"None\", \"ablated_layer\": \"my_conv_4\"} -- metric 0.8181818127632141\n",
      "WORST Config Excludes {\"ablated_feature\": \"None\", \"ablated_layer\": \"my_conv_1\"} -- metric 0.7184750437736511\n",
      "AVERAGE metric -- 0.7612903237342834\n",
      "Total Job Time 0 hours, 3 minutes, 24 seconds\n",
      "\n",
      "Finished experiment.\n"
     ]
    }
   ],
   "source": [
    "from maggy import experiment\n",
    "\n",
    "# launch the experiment\n",
    "result = experiment.lagom(train_fn=train_fn, config=config)"
   ]
  },
  {
   "cell_type": "code",
   "execution_count": null,
   "metadata": {},
   "outputs": [],
   "source": []
  },
  {
   "cell_type": "markdown",
   "metadata": {},
   "source": [
    "# End of Step 3b"
   ]
  }
 ],
 "metadata": {
  "kernelspec": {
   "display_name": "PySpark",
   "language": "python",
   "name": "pysparkkernel"
  },
  "language_info": {
   "codemirror_mode": {
    "name": "python",
    "version": 3
   },
   "mimetype": "text/x-python",
   "name": "pyspark",
   "pygments_lexer": "python3"
  }
 },
 "nbformat": 4,
 "nbformat_minor": 4
}